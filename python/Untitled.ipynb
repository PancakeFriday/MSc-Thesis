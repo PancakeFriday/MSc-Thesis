{
 "cells": [
  {
   "cell_type": "code",
   "execution_count": 1,
   "metadata": {
    "ExecuteTime": {
     "end_time": "2020-08-27T09:37:28.066905Z",
     "start_time": "2020-08-27T09:37:27.694101Z"
    }
   },
   "outputs": [],
   "source": [
    "import matplotlib.pyplot as plt\n",
    "import numpy as np"
   ]
  },
  {
   "cell_type": "code",
   "execution_count": 13,
   "metadata": {
    "ExecuteTime": {
     "end_time": "2020-08-27T09:51:40.942485Z",
     "start_time": "2020-08-27T09:51:40.688660Z"
    }
   },
   "outputs": [
    {
     "data": {
      "image/png": "[encoded data removed]",
      "text/plain": [
       "<Figure size 432x288 with 3 Axes>"
      ]
     },
     "metadata": {
      "needs_background": "light"
     },
     "output_type": "display_data"
    }
   ],
   "source": [
    "def square_fct(xarr, on_off_list):\n",
    "    res = []\n",
    "    for x in xarr:\n",
    "        if x in on_off_list:\n",
    "            if len(res) == 0:\n",
    "                res.append(1)\n",
    "            else: res.append(not res[-1])\n",
    "        else:\n",
    "            if len(res) == 0:\n",
    "                res.append(0)\n",
    "            else: res.append(res[-1])\n",
    "    return np.array(res)\n",
    "\n",
    "x = np.array(range(0, 100))\n",
    "\n",
    "# bpp\n",
    "bpp_a = [5, 20]\n",
    "bpp_b = [5, 20]\n",
    "bpp_pc = [5, 20]\n",
    "\n",
    "fig, ax = plt.subplots(3)\n",
    "ax[0].plot(x, square_fct(x, bpp_a))\n",
    "ax[1].plot(x, square_fct(x, bpp_b))\n",
    "ax[2].plot(x, square_fct(x, bpp_pc))\n",
    "\n",
    "plt.tight_layout()"
   ]
  }
 ],
 "metadata": {
  "kernelspec": {
   "display_name": "Python 3",
   "language": "python",
   "name": "python3"
  },
  "language_info": {
   "codemirror_mode": {
    "name": "ipython",
    "version": 3
   },
   "file_extension": ".py",
   "mimetype": "text/x-python",
   "name": "python",
   "nbconvert_exporter": "python",
   "pygments_lexer": "ipython3",
   "version": "3.7.5"
  }
 },
 "nbformat": 4,
 "nbformat_minor": 4
}
